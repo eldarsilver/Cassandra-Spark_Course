{
 "cells": [
  {
   "cell_type": "markdown",
   "metadata": {},
   "source": [
    "# DRIVER DE PYTHON PARA CASSANDRA"
   ]
  },
  {
   "cell_type": "markdown",
   "metadata": {},
   "source": [
    "# Instalación"
   ]
  },
  {
   "cell_type": "markdown",
   "metadata": {},
   "source": [
    "### Prerrequisitos"
   ]
  },
  {
   "cell_type": "markdown",
   "metadata": {},
   "source": [
    "El driver de Python para interactuar con Cassandra necesita CQL v3, Cassandra 2.1 o superior y Python en alguna de las siguientes versiones: 2.7, 3.4, 3.5, 3.6 y 3.7."
   ]
  },
  {
   "cell_type": "markdown",
   "metadata": {},
   "source": [
    "### Instalación a partir de pip"
   ]
  },
  {
   "cell_type": "markdown",
   "metadata": {},
   "source": [
    "La forma más sencilla de instalar el driver es ejecutando el comando:"
   ]
  },
  {
   "cell_type": "code",
   "execution_count": null,
   "metadata": {},
   "outputs": [],
   "source": [
    "!pip install cassandra-driver"
   ]
  },
  {
   "cell_type": "markdown",
   "metadata": {},
   "source": [
    "El comando anterior emplea Cython para compilar varios componentes del driver de forma que posteriormente sea más rápida su ejecución. Tiene el incoveniente que la instalación del driver tomará varios minutos para completarse."
   ]
  },
  {
   "cell_type": "markdown",
   "metadata": {},
   "source": [
    "# Conexión al Cluster"
   ]
  },
  {
   "cell_type": "markdown",
   "metadata": {},
   "source": [
    "Para conectarnos a un cluster de Cassandra empleando este driver el primer paso será importar las librerías necesarias:"
   ]
  },
  {
   "cell_type": "code",
   "execution_count": null,
   "metadata": {},
   "outputs": [],
   "source": [
    "from cassandra.cluster import Cluster\n",
    "from cassandra.auth import PlainTextAuthProvider"
   ]
  },
  {
   "cell_type": "markdown",
   "metadata": {},
   "source": [
    "El paso siguiente será instanciar un objeto de la clase Cluster. Podemos no especificar ningún argumento con lo que dicha instancia serviría para realizar una conexión posterior con el servicio de Cassandra que se esté ejecutando en localhost:"
   ]
  },
  {
   "cell_type": "code",
   "execution_count": null,
   "metadata": {},
   "outputs": [],
   "source": [
    "cluster_a = Cluster()"
   ]
  },
  {
   "cell_type": "markdown",
   "metadata": {},
   "source": [
    "En caso de que se necesite autenticación para acceder al cluster habrá que instanciar alguna subclase de AuthProvider como PlainTextAuthProvider de la siguiente forma:"
   ]
  },
  {
   "cell_type": "code",
   "execution_count": null,
   "metadata": {},
   "outputs": [],
   "source": [
    "cluster_auth = Cluster(auth_provider=PlainTextAuthProvider(username='cassandra', password='cassandra'))"
   ]
  },
  {
   "cell_type": "markdown",
   "metadata": {},
   "source": [
    "Pero también podemos pasar a dicha llamada una lista con IPs de nodos del cluster de forma que en el momento que contacte con alguna de ellas, automáticamente le permitirá descubrir el resto de nodos. Además es posible especificar opciones como el puerto. Hay que señalar que los puertos por defecto para la comunicación del cluster son el 7000, el 7001 en caso de que SSL esté activo y 9042 para native protocol clients (define el formato de los mensajes binarios entre el driver y el cluster)."
   ]
  },
  {
   "cell_type": "code",
   "execution_count": null,
   "metadata": {},
   "outputs": [],
   "source": [
    "# cluster_b = Cluster([192.168.0.27, 192.168.0.32, 192.168.0.34], port=9042)"
   ]
  },
  {
   "cell_type": "markdown",
   "metadata": {},
   "source": [
    "A continuación, se empleará el objeto cluster para crear una sesión llamando al método connect que acepta como argumento opcional el keyspace con el que se desa realizar la conexión."
   ]
  },
  {
   "cell_type": "code",
   "execution_count": null,
   "metadata": {},
   "outputs": [],
   "source": [
    "sess = cluster_auth.connect('clientes')"
   ]
  },
  {
   "cell_type": "markdown",
   "metadata": {},
   "source": [
    "También se puede cambiar a un keyspace determinado mediante la sentencia:"
   ]
  },
  {
   "cell_type": "code",
   "execution_count": null,
   "metadata": {},
   "outputs": [],
   "source": [
    "sess.set_keyspace('clientes')"
   ]
  },
  {
   "cell_type": "markdown",
   "metadata": {},
   "source": [
    "O ejecutando el comando de CQL USE a través del driver de Python:"
   ]
  },
  {
   "cell_type": "code",
   "execution_count": null,
   "metadata": {},
   "outputs": [],
   "source": [
    "sess.execute('USE clientes')"
   ]
  },
  {
   "cell_type": "markdown",
   "metadata": {},
   "source": [
    "# Ejecución de consultas"
   ]
  },
  {
   "cell_type": "markdown",
   "metadata": {},
   "source": [
    "Acabamos de ver un anticipo de cómo ejecutar consultas empleando el driver, es decir, invocando al método execute()."
   ]
  },
  {
   "cell_type": "code",
   "execution_count": null,
   "metadata": {},
   "outputs": [],
   "source": [
    "filas = sess.execute(\"SELECT * FROM cuenta_zero123\")"
   ]
  },
  {
   "cell_type": "markdown",
   "metadata": {},
   "source": [
    "El resultado se devolverá en forma de tupla."
   ]
  },
  {
   "cell_type": "code",
   "execution_count": null,
   "metadata": {},
   "outputs": [],
   "source": [
    "for fila in filas:\n",
    "    print(\"\\nNueva línea\")\n",
    "    for e in fila:\n",
    "        print(e) "
   ]
  },
  {
   "cell_type": "code",
   "execution_count": null,
   "metadata": {},
   "outputs": [],
   "source": [
    "filas = sess.execute(\"SELECT * FROM cuenta_zero123\")\n",
    "for fila in filas:\n",
    "    print(fila)"
   ]
  },
  {
   "cell_type": "markdown",
   "metadata": {},
   "source": [
    "Las tuplas que devuelve la ejecución de una consulta contienen los nombres de los campos de las filas."
   ]
  },
  {
   "cell_type": "code",
   "execution_count": null,
   "metadata": {},
   "outputs": [],
   "source": [
    "filas = sess.execute(\"SELECT nombre, email, mov_dt, saldo FROM cuenta_zero123\")\n",
    "for fila in filas:\n",
    "    print(\"Cliente: \" + unicode(fila.nombre) + \" con email: \" + str(fila.email))"
   ]
  },
  {
   "cell_type": "markdown",
   "metadata": {},
   "source": [
    "Ejemplo en el que se hace referencia al nombre de las columnas tras ejecutar una consulta:"
   ]
  },
  {
   "cell_type": "code",
   "execution_count": null,
   "metadata": {},
   "outputs": [],
   "source": [
    "filas = sess.execute(\"SELECT nombre, email, mov_dt, saldo FROM cuenta_zero123\")\n",
    "for (nombre, email, _, _) in filas:\n",
    "    print(nombre, email)"
   ]
  },
  {
   "cell_type": "markdown",
   "metadata": {},
   "source": [
    "### Paso de parámetros"
   ]
  },
  {
   "cell_type": "markdown",
   "metadata": {},
   "source": [
    "Los nombres de keyspaces, tablas y columnas deben escribirse explícitamente pero se pueden pasar como parámetro valores de columnas de la consulta / inserción / actualización / borrado teniendo en cuenta que el tipo de todos los argumentos habrá que definirlo como %s y se debe emplear una secuencia (tupla, lista) para especificar los valores de dichos argumentos aunque haya sólo 1. Si se emplea una tupla y hay sólo 1 argumento la forma de indicar su valor será (arg,). "
   ]
  },
  {
   "cell_type": "markdown",
   "metadata": {},
   "source": [
    "Ejemplo en el que se pasan como parámetros los valores de 2 columnas en cláusula WHERE:"
   ]
  },
  {
   "cell_type": "code",
   "execution_count": null,
   "metadata": {},
   "outputs": [],
   "source": [
    "filas = sess.execute(\"SELECT * FROM cuenta_zero123 WHERE nombre = %s and email = %s\", (\"Alberto Martín\", \"am@gmail.com\"))"
   ]
  },
  {
   "cell_type": "code",
   "execution_count": null,
   "metadata": {},
   "outputs": [],
   "source": [
    "for fila in filas:\n",
    "    print(fila)"
   ]
  },
  {
   "cell_type": "markdown",
   "metadata": {},
   "source": [
    "Ejemplo en el que se pasa como parámetro el valor de 1 columna a la hora de realizar una inserción:"
   ]
  },
  {
   "cell_type": "code",
   "execution_count": null,
   "metadata": {},
   "outputs": [],
   "source": [
    "sess.execute(\"INSERT INTO cuenta_zero123 (nombre, email, mov_dt, saldo) VALUES (%s, 'rb@gmail.com', '2019-09-21', 2034.23)\", (\"Ruth Bosch\",))"
   ]
  },
  {
   "cell_type": "markdown",
   "metadata": {},
   "source": [
    "Se comprueba la inserción realizada pasando como parámetros los valores de 2 columnas en cláusula WHERE empleando una tupla:"
   ]
  },
  {
   "cell_type": "code",
   "execution_count": null,
   "metadata": {},
   "outputs": [],
   "source": [
    "filas = sess.execute(\"SELECT * FROM cuenta_zero123 WHERE nombre = %s and email = %s\", (\"Ruth Bosch\", \"rb@gmail.com\"))"
   ]
  },
  {
   "cell_type": "code",
   "execution_count": null,
   "metadata": {},
   "outputs": [],
   "source": [
    "for fila in filas:\n",
    "    print(fila)"
   ]
  },
  {
   "cell_type": "markdown",
   "metadata": {},
   "source": [
    "Se pueden emplear placeholders con nombre de la siguiente forma:"
   ]
  },
  {
   "cell_type": "code",
   "execution_count": null,
   "metadata": {},
   "outputs": [],
   "source": [
    "sess.execute(\"INSERT INTO cuenta_zero123 (nombre, email, mov_dt, saldo) VALUES (%(nombre)s, %(email)s, %(mov_dt)s, %(saldo)s)\", {\"nombre\": \"Francisco Serrano\", \"email\": \"frs@gmail.com\", \"mov_dt\": \"2019-09-24\", \"saldo\": 6040.23})"
   ]
  },
  {
   "cell_type": "markdown",
   "metadata": {},
   "source": [
    "De igual manera, se verifica la inserción realizada pasando como parámetros los valores de 2 columnas en la cláusula WHERE empleando una lista:"
   ]
  },
  {
   "cell_type": "code",
   "execution_count": null,
   "metadata": {},
   "outputs": [],
   "source": [
    "filas = sess.execute(\"SELECT * FROM cuenta_zero123 WHERE nombre = %s and email = %s\", [\"Francisco Serrano\", \"frs@gmail.com\"])"
   ]
  },
  {
   "cell_type": "code",
   "execution_count": null,
   "metadata": {},
   "outputs": [],
   "source": [
    "for fila in filas:\n",
    "    print(fila)"
   ]
  },
  {
   "cell_type": "markdown",
   "metadata": {},
   "source": [
    "# Consultas asíncronas"
   ]
  },
  {
   "cell_type": "markdown",
   "metadata": {},
   "source": [
    "Las consultas realizadas en el apartado anterior eran síncronas, es decir, el driver lanza la consulta y hasta que dicha consulta no finaliza y se han obtenido las filas, el driver no puede continuar con la ejecución de siguientes cláusulas."
   ]
  },
  {
   "cell_type": "markdown",
   "metadata": {},
   "source": [
    "Las consultas asíncronas se realizan empleando el método <b>execute_async()</b> y devuelven inmediatamente un objeto <b>ResponseFuture</b>. Dicho objeto dispone de una serie de métodos como <b>result()</b>, <b>add_callback()</b>, <b>add_callbacks()</b> o <b>add_errback()</b>."
   ]
  },
  {
   "cell_type": "markdown",
   "metadata": {},
   "source": [
    "Si desde el objeto ResponseFuture se invoca al método <b>result()</b> se bloqueará la ejecución del driver hasta que la consulta finalice devolviendo su resultado o hasta que se lance una excepción en caso de producirse un error."
   ]
  },
  {
   "cell_type": "code",
   "execution_count": null,
   "metadata": {},
   "outputs": [],
   "source": [
    "from cassandra import ReadTimeout\n",
    "\n",
    "res_fut = sess.execute_async(\"SELECT * FROM cuenta_zero123 WHERE nombre = %s AND email = %s\", [\"Francisco Serrano\", \"frs@gmail.com\"], timeout=20)\n",
    "\n",
    "try:\n",
    "    filas = res_fut.result()\n",
    "    for fila in filas:\n",
    "        print(fila)\n",
    "except ReadTimeout:\n",
    "    print(\"La consulta ha execedido el tiempo permitido\") # sess = cluster.connect('clientes', default_timeout=10) | sess.execute_async(\"SELECT ...\", timeout=20) | sess.execute(\"SELECT ...\", timeout=20)"
   ]
  },
  {
   "cell_type": "markdown",
   "metadata": {},
   "source": [
    "A continuación se mostrará un ejemplo en el que se ejecutarán de forma asíncrona 3 consultas guardando en una lista 3 objetos ResponseFuture y posteriormente se obtendrán sus resultandos invocando al método bloqueante result() sobre cada uno de ellos:"
   ]
  },
  {
   "cell_type": "code",
   "execution_count": null,
   "metadata": {},
   "outputs": [],
   "source": [
    "nombres = [\"Francisco Serrano\", \"Ruth Bosch\", \"Alberto Martín\"]\n",
    "emails = [\"frs@gmail.com\", \"rb@gmail.com\", \"am@gmail.com\"]\n",
    "res_futs = []\n",
    "\n",
    "for nombre, email in zip(nombres, emails):\n",
    "    res_futs.append(sess.execute_async(\"SELECT * FROM cuenta_zero123 WHERE nombre = %s AND email = %s\", [nombre, email]))\n",
    "    \n",
    "for res_fut in res_futs:\n",
    "    filas = res_fut.result()\n",
    "    for fila in filas:\n",
    "        print(fila)"
   ]
  },
  {
   "cell_type": "markdown",
   "metadata": {},
   "source": [
    "El método <b>add_callback()</b> del objeto ResponseFuture perimite añadir una función de callback que será invocada cuando se obtengan los resultados. Dicha función recibirá como parámetro los resultados. Si se llama a add_callback(fn, \\*args, \\*\\*kwargs) entonces \\*args se pasará como una secuencia de longitud variable de argumentos posicionales y \\*\\*kwargs se pasará como un diccionario de pares clave o nombre de variable-valor. Si se produce algún error durante la ejecución no se llamará a ningún callback. Para esos casos habrá que utilizar add_callbacks() o add_errback(). El callback se ejecuta en un thread de IO y ningún otro thread será procesado hasta que el callback finalice. Otro punto importante a tener en cuenta consiste en que si se produce alguna excepción en el callback, ésta será ignorada por lo que es aconsejable tratar las excepciones que puedan ocurrir."
   ]
  },
  {
   "cell_type": "markdown",
   "metadata": {},
   "source": [
    "Vamos a ver un ejemplo de uso de <b>execute_async() con el método add_callback(fn, \\*args, \\*\\*kwargs)</b>:"
   ]
  },
  {
   "cell_type": "code",
   "execution_count": null,
   "metadata": {},
   "outputs": [],
   "source": [
    "def my_cb(filas, num, msg):\n",
    "    print(msg)\n",
    "    print(num)\n",
    "    for fila in filas:\n",
    "        try:\n",
    "            print(\"El saldo de \" + str(fila.nombre) + \" es \" + str(fila.saldo))\n",
    "        except:\n",
    "            print(\"Error al mostrar el nombre del cliente por la presencia de caracteres no interpretables.\")\n",
    "\n",
    "res_fut = sess.execute_async(\"SELECT * FROM cuenta_zero123\")\n",
    "filas = res_fut.add_callback(my_cb, 3, \"Entrando al callback\")"
   ]
  },
  {
   "cell_type": "code",
   "execution_count": null,
   "metadata": {},
   "outputs": [],
   "source": [
    "def my_cb(filas, num, msg):\n",
    "    print(msg)\n",
    "    print(num)\n",
    "    for fila in filas:\n",
    "        try:\n",
    "            print(\"El saldo de \" + unicode(fila.nombre) + \" es \" + str(fila.saldo))\n",
    "        except:\n",
    "            print(\"Error al mostrar el nombre del cliente por la presencia de caracteres no interpretables.\")\n",
    "\n",
    "res_fut = sess.execute_async(\"SELECT * FROM cuenta_zero123\")\n",
    "filas = res_fut.add_callback(my_cb, 3, \"Entrando al callback\")"
   ]
  },
  {
   "cell_type": "markdown",
   "metadata": {},
   "source": [
    "Ejemplo de uso del método <b>execute_async() con add_errback(fn, \\*args, \\*\\*kwargs)</b>:"
   ]
  },
  {
   "cell_type": "code",
   "execution_count": null,
   "metadata": {},
   "outputs": [],
   "source": [
    "def my_errcb(msg, msg2):\n",
    "    print(\"* Mensaje devuelto por la excepción: \" + str(msg))\n",
    "    print(\"\\n* Parámetro adicional pasado al add_errback: \" + str(msg2))\n",
    "    \n",
    "res_fut = sess.execute_async(\"SELECT * FROM cuenta_zero123 WHERE saldo > 5000\")\n",
    "filas = res_fut.add_errback(my_errcb, \"No se ha especificado una partition key válida a la hora de realizar el filtrado WHERE\")"
   ]
  },
  {
   "cell_type": "markdown",
   "metadata": {},
   "source": [
    "Ejemplo de uso del método <b>execute_async() con add_callbacks(callback_fn, errback_fn, \\*callback_args=(), \\*\\*callback_kwargs=None, \\*errback_args=())</b>: "
   ]
  },
  {
   "cell_type": "code",
   "execution_count": null,
   "metadata": {},
   "outputs": [],
   "source": [
    "def mycb(filas, num, msg, dic):\n",
    "    print(msg)\n",
    "    print(num)\n",
    "    print(dic.keys())\n",
    "    print(dic.values())\n",
    "    for fila in filas:\n",
    "        try:\n",
    "            print(\"El saldo de \" + unicode(fila.nombre) + \" es \" + str(fila.saldo))\n",
    "        except:\n",
    "            print(\"Error al mostrar el nombre del cliente por la presencia de caracteres no interpretables.\")\n",
    "\n",
    "def my_errcb(msg, msg2):\n",
    "    print(\"* Mensaje devuelto por la excepción: \" + str(msg))\n",
    "    print(\"\\n* Mensaje pasado al add_errback: \" + str(msg2))\n",
    "    #print(\"\\n* Valor del diccionario pasado al add_errback: \" + str(msg2.value()))\n",
    "    \n",
    "res_fut = sess.execute_async(\"SELECT * FROM cuenta_zero123 WHERE saldo > 5000\")\n",
    "filas = res_fut.add_callbacks(callback=mycb, errback=my_errcb, callback_args=(1, \"Entrando al callback\"), callback_kwargs={'k': 2}, errback_args=(\"No se ha especificado una partition key válida a la hora de realizar el filtrado WHERE\",))"
   ]
  },
  {
   "cell_type": "code",
   "execution_count": null,
   "metadata": {},
   "outputs": [],
   "source": [
    "def mycb(filas, num, msg, k):\n",
    "    print(msg)\n",
    "    print(num)\n",
    "    print(k.items())\n",
    "\n",
    "    for fila in filas:\n",
    "        try:\n",
    "            print(\"El saldo de \" + unicode(fila.nombre) + \" es \" + str(fila.saldo))\n",
    "        except:\n",
    "            print(\"Error al mostrar el nombre del cliente por la presencia de caracteres no interpretables.\")\n",
    "\n",
    "def my_errcb(msg, msg2):\n",
    "    print(\"* Mensaje devuelto por la excepción: \" + str(msg))\n",
    "    print(\"\\n* Clave del diccionario pasado al add_errback: \" + str(msg2))\n",
    "    #print(\"\\n* Valor del diccionario pasado al add_errback: \" + str(msg2.value()))\n",
    "    \n",
    "res_fut = sess.execute_async(\"SELECT * FROM cuenta_zero123 WHERE nombre=%(nombre)s AND email=%(email)s\", {\"nombre\": \"Francisco Serrano\", \"email\": \"frs@gmail.com\"})\n",
    "filas = res_fut.add_callbacks(callback=mycb, errback=my_errcb, callback_args=(1, \"Entrando al callback\"), callback_kwargs={'k': 2}, errback_args=(\"No se ha especificado una partition key válida a la hora de realizar el filtrado WHERE\",))"
   ]
  },
  {
   "cell_type": "markdown",
   "metadata": {},
   "source": [
    "# Prepared Statements"
   ]
  },
  {
   "cell_type": "markdown",
   "metadata": {},
   "source": [
    "Son consultas que Cassandra preprocesa a modo de placeholder de forma que podrán ser ejecutadas posteriormente dando valores a sus parámetros. Esto permite reducir el tráfico de red y la utilización de procesador ya que no hay que volver a parsear la consulta en caso de que vaya a ser ejecutada varias veces pasándole diferentes valores a sus parámetros. "
   ]
  },
  {
   "cell_type": "markdown",
   "metadata": {},
   "source": [
    "La forma de crear una prepared statement es mediante <b>sess.prepare(\"SELECT ...FROM ... WHERE col=?\")</b>. Esa llamada devolverá un objeto <b>PreparedStatement</b> de forma que el driver se encarga de preparar (\"parsear\") esa consulta en todos los nodos y de re-prepararla en nodos nuevos que se añadan posteriormente. "
   ]
  },
  {
   "cell_type": "code",
   "execution_count": null,
   "metadata": {},
   "outputs": [],
   "source": [
    "nombres = [\"Francisco Serrano\", \"Ruth Bosch\", \"Alberto Martín\"]\n",
    "emails = [\"frs@gmail.com\", \"rb@gmail.com\", \"am@gmail.com\"]\n",
    "\n",
    "prep = sess.prepare(\"SELECT * FROM cuenta_zero123 WHERE nombre=? AND email=?\")\n",
    "\n",
    "for nombre, email in zip(nombres, emails):\n",
    "    filas = sess.execute(prep, [nombre, email])\n",
    "    for fila in filas:\n",
    "        print(fila)"
   ]
  },
  {
   "cell_type": "code",
   "execution_count": null,
   "metadata": {},
   "outputs": [],
   "source": []
  }
 ],
 "metadata": {
  "kernelspec": {
   "display_name": "Python 2",
   "language": "python",
   "name": "python2"
  },
  "language_info": {
   "codemirror_mode": {
    "name": "ipython",
    "version": 2
   },
   "file_extension": ".py",
   "mimetype": "text/x-python",
   "name": "python",
   "nbconvert_exporter": "python",
   "pygments_lexer": "ipython2",
   "version": "2.7.16"
  }
 },
 "nbformat": 4,
 "nbformat_minor": 2
}
